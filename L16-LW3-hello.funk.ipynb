{
 "cells": [
  {
   "cell_type": "markdown",
   "metadata": {},
   "source": [
    "Hello Function\n",
    "\n",
    ".....\n",
    "def functionName( p1, p2, p3, ...):\n",
    "    ins_1\n",
    "    ins_2\n",
    "    ...\n",
    "    ins_N\n",
    "    return <value>\n",
    "....."
   ]
  },
  {
   "cell_type": "markdown",
   "metadata": {},
   "source": [
    "Architect"
   ]
  },
  {
   "cell_type": "code",
   "execution_count": 17,
   "metadata": {},
   "outputs": [],
   "source": [
    "# function definition\n",
    "def hi( lang ):    # en, ry, ro, ...\n",
    "    if lang == \"en\":\n",
    "        print(\"Hello!\")\n",
    "    elif lang == \"ru\":\n",
    "        print(\"Привет!\")\n",
    "    elif lang == \"ro\":\n",
    "        print(\"Salut!\")\n",
    "    else:\n",
    "        print(f\"ERROR!!! {lang} is not recognized!!!\")"
   ]
  },
  {
   "cell_type": "markdown",
   "metadata": {},
   "source": [
    "User / Consumer"
   ]
  },
  {
   "cell_type": "code",
   "execution_count": 19,
   "metadata": {},
   "outputs": [
    {
     "name": "stdout",
     "output_type": "stream",
     "text": [
      "Hello!\n",
      "Привет!\n",
      "Salut!\n",
      "ERROR!!! xz is not recognized!!!\n"
     ]
    }
   ],
   "source": [
    "# function call\n",
    "hi(\"en\")\n",
    "hi(\"ru\")\n",
    "hi(\"ro\")\n",
    "hi(\"xz\")"
   ]
  }
 ],
 "metadata": {
  "kernelspec": {
   "display_name": "Python 3",
   "language": "python",
   "name": "python3"
  },
  "language_info": {
   "codemirror_mode": {
    "name": "ipython",
    "version": 3
   },
   "file_extension": ".py",
   "mimetype": "text/x-python",
   "name": "python",
   "nbconvert_exporter": "python",
   "pygments_lexer": "ipython3",
   "version": "3.11.6"
  }
 },
 "nbformat": 4,
 "nbformat_minor": 2
}
